{
 "cells": [
  {
   "cell_type": "markdown",
   "id": "quick-microwave",
   "metadata": {},
   "source": [
    "## A) get data\n",
    "go to uniprot and download the fasta protein sequence for \"G-protein coupled receptor 183\" - aka \"P32249\""
   ]
  },
  {
   "cell_type": "markdown",
   "id": "coated-instrumentation",
   "metadata": {},
   "source": [
    "## B) Create a protein class\n",
    "\n",
    "that can be initialized by a name (or ID), sequence and a metrics dictionary, like:"
   ]
  },
  {
   "cell_type": "code",
   "execution_count": 5,
   "id": "e3c3c0a5",
   "metadata": {},
   "outputs": [],
   "source": [
    "metrics = {\n",
    "    \"hydropathy\": {\"A\" : \"...\"},\n",
    "    \"pI\": {\"A\": \"...\"},\n",
    "}"
   ]
  },
  {
   "cell_type": "code",
   "execution_count": 6,
   "id": "bffeedfd",
   "metadata": {},
   "outputs": [],
   "source": [
    "import pandas as pd\n",
    "from pathlib import Path"
   ]
  },
  {
   "cell_type": "code",
   "execution_count": 7,
   "id": "cb333d97",
   "metadata": {},
   "outputs": [],
   "source": [
    "import plotly.graph_objects as go"
   ]
  },
  {
   "cell_type": "code",
   "execution_count": 8,
   "id": "c18b68a6",
   "metadata": {},
   "outputs": [
    {
     "data": {
      "text/plain": [
       "{'Name': {'A': 'Alanine',\n",
       "  'R': 'Arginine',\n",
       "  'N': 'Asparagine',\n",
       "  'D': 'Aspartic acid',\n",
       "  'C': 'Cysteine',\n",
       "  'E': 'Glutamic acid',\n",
       "  'Q': 'Glutamine',\n",
       "  'G': 'Glycine',\n",
       "  'H': 'Histidine',\n",
       "  'I': 'Isoleucine',\n",
       "  'L': 'Leucine',\n",
       "  'K': 'Lysine',\n",
       "  'M': 'Methionine',\n",
       "  'F': 'Phenylalanine',\n",
       "  'P': 'Proline',\n",
       "  'S': 'Serine',\n",
       "  'T': 'Threonine',\n",
       "  'W': 'Tryptophan',\n",
       "  'Y': 'Tyrosine',\n",
       "  'V': 'Valine'},\n",
       " '3-letter code': {'A': 'Ala',\n",
       "  'R': 'Arg',\n",
       "  'N': 'Asn',\n",
       "  'D': 'Asp',\n",
       "  'C': 'Cys',\n",
       "  'E': 'Glu',\n",
       "  'Q': 'Gln',\n",
       "  'G': 'Gly',\n",
       "  'H': 'His',\n",
       "  'I': 'Ile',\n",
       "  'L': 'Leu',\n",
       "  'K': 'Lys',\n",
       "  'M': 'Met',\n",
       "  'F': 'Phe',\n",
       "  'P': 'Pro',\n",
       "  'S': 'Ser',\n",
       "  'T': 'Thr',\n",
       "  'W': 'Trp',\n",
       "  'Y': 'Tyr',\n",
       "  'V': 'Val'},\n",
       " 'Molecular Weight': {'A': 89.1,\n",
       "  'R': 174.2,\n",
       "  'N': 132.12,\n",
       "  'D': 133.11,\n",
       "  'C': 121.16,\n",
       "  'E': 147.13,\n",
       "  'Q': 146.15,\n",
       "  'G': 75.07,\n",
       "  'H': 155.16,\n",
       "  'I': 131.18,\n",
       "  'L': 131.18,\n",
       "  'K': 146.19,\n",
       "  'M': 149.21,\n",
       "  'F': 165.19,\n",
       "  'P': 115.13,\n",
       "  'S': 105.09,\n",
       "  'T': 119.12,\n",
       "  'W': 204.23,\n",
       "  'Y': 181.19,\n",
       "  'V': 117.15},\n",
       " 'Molecular Formula': {'A': 'C3H7NO2',\n",
       "  'R': 'C6H14N4O2',\n",
       "  'N': 'C4H8N2O3',\n",
       "  'D': 'C4H7NO4',\n",
       "  'C': 'C3H7NO2S',\n",
       "  'E': 'C5H9NO4',\n",
       "  'Q': 'C5H10N2O3',\n",
       "  'G': 'C2H5NO2',\n",
       "  'H': 'C6H9N3O2',\n",
       "  'I': 'C6H13NO2',\n",
       "  'L': 'C6H13NO2',\n",
       "  'K': 'C6H14N2O2',\n",
       "  'M': 'C5H11NO2S',\n",
       "  'F': 'C9H11NO2',\n",
       "  'P': 'C5H9NO2',\n",
       "  'S': 'C3H7NO3',\n",
       "  'T': 'C4H9NO3',\n",
       "  'W': 'C11H12N2O2',\n",
       "  'Y': 'C9H11NO3',\n",
       "  'V': 'C5H11NO2'},\n",
       " 'Residue Formula': {'A': 'C3H5NO',\n",
       "  'R': 'C6H12N4O',\n",
       "  'N': 'C4H6N2O2',\n",
       "  'D': 'C4H5NO3',\n",
       "  'C': 'C3H5NOS',\n",
       "  'E': 'C5H7NO3',\n",
       "  'Q': 'C5H8N2O2',\n",
       "  'G': 'C2H3NO',\n",
       "  'H': 'C6H7N3O',\n",
       "  'I': 'C6H11NO',\n",
       "  'L': 'C6H11NO',\n",
       "  'K': 'C6H12N2O',\n",
       "  'M': 'C5H9NOS',\n",
       "  'F': 'C9H9NO',\n",
       "  'P': 'C5H7NO',\n",
       "  'S': 'C3H5NO2',\n",
       "  'T': 'C4H7NO2',\n",
       "  'W': 'C11H10N2O',\n",
       "  'Y': 'C9H9NO2',\n",
       "  'V': 'C5H9NO'},\n",
       " 'Residue Weight': {'A': 71.08,\n",
       "  'R': 156.19,\n",
       "  'N': 114.11,\n",
       "  'D': 115.09,\n",
       "  'C': 103.15,\n",
       "  'E': 129.12,\n",
       "  'Q': 128.13,\n",
       "  'G': 57.05,\n",
       "  'H': 137.14,\n",
       "  'I': 113.16,\n",
       "  'L': 113.16,\n",
       "  'K': 128.18,\n",
       "  'M': 131.2,\n",
       "  'F': 147.18,\n",
       "  'P': 97.12,\n",
       "  'S': 87.08,\n",
       "  'T': 101.11,\n",
       "  'W': 186.22,\n",
       "  'Y': 163.18,\n",
       "  'V': 99.13},\n",
       " 'pka1': {'A': 2.34,\n",
       "  'R': 2.17,\n",
       "  'N': 2.02,\n",
       "  'D': 1.88,\n",
       "  'C': 1.96,\n",
       "  'E': 2.19,\n",
       "  'Q': 2.17,\n",
       "  'G': 2.34,\n",
       "  'H': 1.82,\n",
       "  'I': 2.36,\n",
       "  'L': 2.36,\n",
       "  'K': 2.18,\n",
       "  'M': 2.28,\n",
       "  'F': 1.83,\n",
       "  'P': 1.99,\n",
       "  'S': 2.21,\n",
       "  'T': 2.09,\n",
       "  'W': 2.83,\n",
       "  'Y': 2.2,\n",
       "  'V': 2.32},\n",
       " 'pka2': {'A': 9.69,\n",
       "  'R': 9.04,\n",
       "  'N': 8.8,\n",
       "  'D': 9.6,\n",
       "  'C': 10.28,\n",
       "  'E': 9.67,\n",
       "  'Q': 9.13,\n",
       "  'G': 9.6,\n",
       "  'H': 9.17,\n",
       "  'I': 9.6,\n",
       "  'L': 9.6,\n",
       "  'K': 8.95,\n",
       "  'M': 9.21,\n",
       "  'F': 9.13,\n",
       "  'P': 10.6,\n",
       "  'S': 9.15,\n",
       "  'T': 9.1,\n",
       "  'W': 9.39,\n",
       "  'Y': 9.11,\n",
       "  'V': 9.62},\n",
       " 'pkaX': {'A': nan,\n",
       "  'R': 12.48,\n",
       "  'N': nan,\n",
       "  'D': 3.65,\n",
       "  'C': 8.18,\n",
       "  'E': 4.25,\n",
       "  'Q': nan,\n",
       "  'G': nan,\n",
       "  'H': 6.0,\n",
       "  'I': nan,\n",
       "  'L': nan,\n",
       "  'K': 10.53,\n",
       "  'M': nan,\n",
       "  'F': nan,\n",
       "  'P': nan,\n",
       "  'S': nan,\n",
       "  'T': nan,\n",
       "  'W': nan,\n",
       "  'Y': 10.07,\n",
       "  'V': nan},\n",
       " 'pI': {'A': 6.0,\n",
       "  'R': 10.76,\n",
       "  'N': 5.41,\n",
       "  'D': 2.77,\n",
       "  'C': 5.07,\n",
       "  'E': 3.22,\n",
       "  'Q': 5.65,\n",
       "  'G': 5.97,\n",
       "  'H': 7.59,\n",
       "  'I': 6.02,\n",
       "  'L': 5.98,\n",
       "  'K': 9.74,\n",
       "  'M': 5.74,\n",
       "  'F': 5.48,\n",
       "  'P': 6.3,\n",
       "  'S': 5.68,\n",
       "  'T': 5.6,\n",
       "  'W': 5.89,\n",
       "  'Y': 5.66,\n",
       "  'V': 5.96},\n",
       " 'hydropathy': {'A': 1.8,\n",
       "  'R': -4.5,\n",
       "  'N': -3.5,\n",
       "  'D': -3.5,\n",
       "  'C': 2.5,\n",
       "  'E': -3.5,\n",
       "  'Q': -3.5,\n",
       "  'G': -0.4,\n",
       "  'H': -3.2,\n",
       "  'I': 4.5,\n",
       "  'L': 3.8,\n",
       "  'K': -3.9,\n",
       "  'M': 1.9,\n",
       "  'F': 2.8,\n",
       "  'P': -1.6,\n",
       "  'S': -0.8,\n",
       "  'T': -0.7,\n",
       "  'W': -0.9,\n",
       "  'Y': -1.3,\n",
       "  'V': 4.2},\n",
       " 'Accessible surface': {'A': 44.1,\n",
       "  'R': 159.2,\n",
       "  'N': 80.8,\n",
       "  'D': 76.3,\n",
       "  'C': 56.4,\n",
       "  'E': 99.2,\n",
       "  'Q': 100.6,\n",
       "  'G': 0.0,\n",
       "  'H': 98.2,\n",
       "  'I': 90.9,\n",
       "  'L': 92.8,\n",
       "  'K': 139.1,\n",
       "  'M': 95.3,\n",
       "  'F': 107.4,\n",
       "  'P': 79.5,\n",
       "  'S': 57.5,\n",
       "  'T': 73.4,\n",
       "  'W': 143.4,\n",
       "  'Y': 119.1,\n",
       "  'V': 73.0},\n",
       " 'hp_type': {'A': 'neutral',\n",
       "  'R': 'hydrophilic',\n",
       "  'N': 'hydrophilic',\n",
       "  'D': 'hydrophilic',\n",
       "  'C': 'hydrophobic',\n",
       "  'E': 'hydrophilic',\n",
       "  'Q': 'hydrophilic',\n",
       "  'G': 'neutral',\n",
       "  'H': 'hydrophilic',\n",
       "  'I': 'hydrophobic',\n",
       "  'L': 'hydrophobic',\n",
       "  'K': 'hydrophilic',\n",
       "  'M': 'neutral',\n",
       "  'F': 'hydrophobic',\n",
       "  'P': 'neutral',\n",
       "  'S': 'neutral',\n",
       "  'T': 'neutral',\n",
       "  'W': 'neutral',\n",
       "  'Y': 'neutral',\n",
       "  'V': 'hydrophobic'},\n",
       " 'hp_color': {'A': 'green',\n",
       "  'R': 'blue',\n",
       "  'N': 'blue',\n",
       "  'D': 'blue',\n",
       "  'C': 'grey',\n",
       "  'E': 'blue',\n",
       "  'Q': 'blue',\n",
       "  'G': 'green',\n",
       "  'H': 'blue',\n",
       "  'I': 'grey',\n",
       "  'L': 'grey',\n",
       "  'K': 'blue',\n",
       "  'M': 'green',\n",
       "  'F': 'grey',\n",
       "  'P': 'green',\n",
       "  'S': 'green',\n",
       "  'T': 'green',\n",
       "  'W': 'green',\n",
       "  'Y': 'green',\n",
       "  'V': 'grey'},\n",
       " 'pk-state': {'A': 'neutral',\n",
       "  'R': 'alkine',\n",
       "  'N': 'neutral',\n",
       "  'D': 'acidic',\n",
       "  'C': 'alkine',\n",
       "  'E': 'acidic',\n",
       "  'Q': 'neutral',\n",
       "  'G': 'neutral',\n",
       "  'H': 'neutral',\n",
       "  'I': 'neutral',\n",
       "  'L': 'neutral',\n",
       "  'K': 'alkine',\n",
       "  'M': 'neutral',\n",
       "  'F': 'neutral',\n",
       "  'P': 'neutral',\n",
       "  'S': 'neutral',\n",
       "  'T': 'neutral',\n",
       "  'W': 'neutral',\n",
       "  'Y': 'alkine',\n",
       "  'V': 'neutral'}}"
      ]
     },
     "execution_count": 8,
     "metadata": {},
     "output_type": "execute_result"
    }
   ],
   "source": [
    "amino_acids = pd.read_csv(Path(\"../../data/amino_acid_properties.csv\"))\n",
    "amino_acids = amino_acids.rename(columns={\"hydropathy index (Kyte-Doolittle method)\": \"hydropathy\"})\n",
    "amino_acids = amino_acids.set_index(\"1-letter code\")\n",
    "metrics = amino_acids.to_dict(\"dict\")\n",
    "\n",
    "metrics"
   ]
  },
  {
   "cell_type": "code",
   "execution_count": 9,
   "id": "d294708c",
   "metadata": {},
   "outputs": [
    {
     "data": {
      "text/plain": [
       "1.8"
      ]
     },
     "execution_count": 9,
     "metadata": {},
     "output_type": "execute_result"
    }
   ],
   "source": [
    "metrics[\"hydropathy\"][\"A\"]"
   ]
  },
  {
   "cell_type": "code",
   "execution_count": 10,
   "id": "6fa8127a",
   "metadata": {},
   "outputs": [],
   "source": [
    "class Protein(object):\n",
    "    def __init__(self, name, sequence, dictionary):\n",
    "        self.name = name\n",
    "        self.sequence = sequence\n",
    "        self.dictionary = dictionary\n",
    "\n",
    "\n",
    "    def plot(self, metric=\"hydropathy\", window_size=1):\n",
    "\n",
    "        y_data = []\n",
    "        for aa in self.sequence:\n",
    "            y_data.append(self.dictionary[metric][aa])\n",
    "\n",
    "        data = [\n",
    "            go.Bar(\n",
    "                y = y_data,\n",
    "                x = [x for x in range(len(self.sequence))]\n",
    "            )\n",
    "        ]\n",
    "        fig = go.Figure(data=data)\n",
    "        fig.update_layout(template=\"plotly\", title=self.name)\n",
    "        return fig"
   ]
  },
  {
   "cell_type": "code",
   "execution_count": 11,
   "id": "c41071ce",
   "metadata": {},
   "outputs": [],
   "source": [
    "sequence = \"MDIQMANNFTPPSATPQGNDCDLYAHHSTARIVMPLHYSLVFIIGLVGNLLALVVIVQNRKKINSTTLYSTNLVISDILFTTALPTRIAYYAMGFDWRIGDALCRITALVFYINTYAGVNFMTCLSIDRFIAVVHPLRYNKIKRIEHAKGVCIFVWILVFAQTLPLLINPMSKQEAERITCMEYPNFEETKSLPWILLGACFIGYVLPLIIILICYSQICCKLFRTAKQNPLTEKSGVNKKALNTIILIIVVFVLCFTPYHVAIIQHMIKKLRFSNFLECSQRHSFQISLHFTVCLMNFNCCMDPFIYFFACKGYKRKVMRMLKRQVSVSISSAVKSAPEENSREMTETQMMIHSKSSNGK\"\n",
    "\n",
    "name = \"GP183_HUMAN G-protein coupled receptor 183\""
   ]
  },
  {
   "cell_type": "code",
   "execution_count": 12,
   "id": "edd28516",
   "metadata": {},
   "outputs": [
    {
     "data": {
      "application/vnd.plotly.v1+json": {
       "config": {
        "plotlyServerURL": "https://plot.ly"
       },
       "data": [
        {
         "type": "bar",
         "x": [
          0,
          1,
          2,
          3,
          4,
          5,
          6,
          7,
          8,
          9,
          10,
          11,
          12,
          13,
          14,
          15,
          16,
          17,
          18,
          19,
          20,
          21,
          22,
          23,
          24,
          25,
          26,
          27,
          28,
          29,
          30,
          31,
          32,
          33,
          34,
          35,
          36,
          37,
          38,
          39,
          40,
          41,
          42,
          43,
          44,
          45,
          46,
          47,
          48,
          49,
          50,
          51,
          52,
          53,
          54,
          55,
          56,
          57,
          58,
          59,
          60,
          61,
          62,
          63,
          64,
          65,
          66,
          67,
          68,
          69,
          70,
          71,
          72,
          73,
          74,
          75,
          76,
          77,
          78,
          79,
          80,
          81,
          82,
          83,
          84,
          85,
          86,
          87,
          88,
          89,
          90,
          91,
          92,
          93,
          94,
          95,
          96,
          97,
          98,
          99,
          100,
          101,
          102,
          103,
          104,
          105,
          106,
          107,
          108,
          109,
          110,
          111,
          112,
          113,
          114,
          115,
          116,
          117,
          118,
          119,
          120,
          121,
          122,
          123,
          124,
          125,
          126,
          127,
          128,
          129,
          130,
          131,
          132,
          133,
          134,
          135,
          136,
          137,
          138,
          139,
          140,
          141,
          142,
          143,
          144,
          145,
          146,
          147,
          148,
          149,
          150,
          151,
          152,
          153,
          154,
          155,
          156,
          157,
          158,
          159,
          160,
          161,
          162,
          163,
          164,
          165,
          166,
          167,
          168,
          169,
          170,
          171,
          172,
          173,
          174,
          175,
          176,
          177,
          178,
          179,
          180,
          181,
          182,
          183,
          184,
          185,
          186,
          187,
          188,
          189,
          190,
          191,
          192,
          193,
          194,
          195,
          196,
          197,
          198,
          199,
          200,
          201,
          202,
          203,
          204,
          205,
          206,
          207,
          208,
          209,
          210,
          211,
          212,
          213,
          214,
          215,
          216,
          217,
          218,
          219,
          220,
          221,
          222,
          223,
          224,
          225,
          226,
          227,
          228,
          229,
          230,
          231,
          232,
          233,
          234,
          235,
          236,
          237,
          238,
          239,
          240,
          241,
          242,
          243,
          244,
          245,
          246,
          247,
          248,
          249,
          250,
          251,
          252,
          253,
          254,
          255,
          256,
          257,
          258,
          259,
          260,
          261,
          262,
          263,
          264,
          265,
          266,
          267,
          268,
          269,
          270,
          271,
          272,
          273,
          274,
          275,
          276,
          277,
          278,
          279,
          280,
          281,
          282,
          283,
          284,
          285,
          286,
          287,
          288,
          289,
          290,
          291,
          292,
          293,
          294,
          295,
          296,
          297,
          298,
          299,
          300,
          301,
          302,
          303,
          304,
          305,
          306,
          307,
          308,
          309,
          310,
          311,
          312,
          313,
          314,
          315,
          316,
          317,
          318,
          319,
          320,
          321,
          322,
          323,
          324,
          325,
          326,
          327,
          328,
          329,
          330,
          331,
          332,
          333,
          334,
          335,
          336,
          337,
          338,
          339,
          340,
          341,
          342,
          343,
          344,
          345,
          346,
          347,
          348,
          349,
          350,
          351,
          352,
          353,
          354,
          355,
          356,
          357,
          358,
          359,
          360
         ],
         "y": [
          1.9,
          -3.5,
          4.5,
          -3.5,
          1.9,
          1.8,
          -3.5,
          -3.5,
          2.8,
          -0.7,
          -1.6,
          -1.6,
          -0.8,
          1.8,
          -0.7,
          -1.6,
          -3.5,
          -0.4,
          -3.5,
          -3.5,
          2.5,
          -3.5,
          3.8,
          -1.3,
          1.8,
          -3.2,
          -3.2,
          -0.8,
          -0.7,
          1.8,
          -4.5,
          4.5,
          4.2,
          1.9,
          -1.6,
          3.8,
          -3.2,
          -1.3,
          -0.8,
          3.8,
          4.2,
          2.8,
          4.5,
          4.5,
          -0.4,
          3.8,
          4.2,
          -0.4,
          -3.5,
          3.8,
          3.8,
          1.8,
          3.8,
          4.2,
          4.2,
          4.5,
          4.2,
          -3.5,
          -3.5,
          -4.5,
          -3.9,
          -3.9,
          4.5,
          -3.5,
          -0.8,
          -0.7,
          -0.7,
          3.8,
          -1.3,
          -0.8,
          -0.7,
          -3.5,
          3.8,
          4.2,
          4.5,
          -0.8,
          -3.5,
          4.5,
          3.8,
          2.8,
          -0.7,
          -0.7,
          1.8,
          3.8,
          -1.6,
          -0.7,
          -4.5,
          4.5,
          1.8,
          -1.3,
          -1.3,
          1.8,
          1.9,
          -0.4,
          2.8,
          -3.5,
          -0.9,
          -4.5,
          4.5,
          -0.4,
          -3.5,
          1.8,
          3.8,
          2.5,
          -4.5,
          4.5,
          -0.7,
          1.8,
          3.8,
          4.2,
          2.8,
          -1.3,
          4.5,
          -3.5,
          -0.7,
          -1.3,
          1.8,
          -0.4,
          4.2,
          -3.5,
          2.8,
          1.9,
          -0.7,
          2.5,
          3.8,
          -0.8,
          4.5,
          -3.5,
          -4.5,
          2.8,
          4.5,
          1.8,
          4.2,
          4.2,
          -3.2,
          -1.6,
          3.8,
          -4.5,
          -1.3,
          -3.5,
          -3.9,
          4.5,
          -3.9,
          -4.5,
          4.5,
          -3.5,
          -3.2,
          1.8,
          -3.9,
          -0.4,
          4.2,
          2.5,
          4.5,
          2.8,
          4.2,
          -0.9,
          4.5,
          3.8,
          4.2,
          2.8,
          1.8,
          -3.5,
          -0.7,
          3.8,
          -1.6,
          3.8,
          3.8,
          4.5,
          -3.5,
          -1.6,
          1.9,
          -0.8,
          -3.9,
          -3.5,
          -3.5,
          1.8,
          -3.5,
          -4.5,
          4.5,
          -0.7,
          2.5,
          1.9,
          -3.5,
          -1.3,
          -1.6,
          -3.5,
          2.8,
          -3.5,
          -3.5,
          -0.7,
          -3.9,
          -0.8,
          3.8,
          -1.6,
          -0.9,
          4.5,
          3.8,
          3.8,
          -0.4,
          1.8,
          2.5,
          2.8,
          4.5,
          -0.4,
          -1.3,
          4.2,
          3.8,
          -1.6,
          3.8,
          4.5,
          4.5,
          4.5,
          3.8,
          4.5,
          2.5,
          -1.3,
          -0.8,
          -3.5,
          4.5,
          2.5,
          2.5,
          -3.9,
          3.8,
          2.8,
          -4.5,
          -0.7,
          1.8,
          -3.9,
          -3.5,
          -3.5,
          -1.6,
          3.8,
          -0.7,
          -3.5,
          -3.9,
          -0.8,
          -0.4,
          4.2,
          -3.5,
          -3.9,
          -3.9,
          1.8,
          3.8,
          -3.5,
          -0.7,
          4.5,
          4.5,
          3.8,
          4.5,
          4.5,
          4.2,
          4.2,
          2.8,
          4.2,
          3.8,
          2.5,
          2.8,
          -0.7,
          -1.6,
          -1.3,
          -3.2,
          4.2,
          1.8,
          4.5,
          4.5,
          -3.5,
          -3.2,
          1.9,
          4.5,
          -3.9,
          -3.9,
          3.8,
          -4.5,
          2.8,
          -0.8,
          -3.5,
          2.8,
          3.8,
          -3.5,
          2.5,
          -0.8,
          -3.5,
          -4.5,
          -3.2,
          -0.8,
          2.8,
          -3.5,
          4.5,
          -0.8,
          3.8,
          -3.2,
          2.8,
          -0.7,
          4.2,
          2.5,
          3.8,
          1.9,
          -3.5,
          2.8,
          -3.5,
          2.5,
          2.5,
          1.9,
          -3.5,
          -1.6,
          2.8,
          4.5,
          -1.3,
          2.8,
          2.8,
          1.8,
          2.5,
          -3.9,
          -0.4,
          -1.3,
          -3.9,
          -4.5,
          -3.9,
          4.2,
          1.9,
          -4.5,
          1.9,
          3.8,
          -3.9,
          -4.5,
          -3.5,
          4.2,
          -0.8,
          4.2,
          -0.8,
          4.5,
          -0.8,
          -0.8,
          1.8,
          4.2,
          -3.9,
          -0.8,
          1.8,
          -1.6,
          -3.5,
          -3.5,
          -3.5,
          -0.8,
          -4.5,
          -3.5,
          1.9,
          -0.7,
          -3.5,
          -0.7,
          -3.5,
          1.9,
          1.9,
          4.5,
          -3.2,
          -0.8,
          -3.9,
          -0.8,
          -0.8,
          -3.5,
          -0.4,
          -3.9
         ]
        }
       ],
       "layout": {
        "template": {
         "data": {
          "bar": [
           {
            "error_x": {
             "color": "#2a3f5f"
            },
            "error_y": {
             "color": "#2a3f5f"
            },
            "marker": {
             "line": {
              "color": "#E5ECF6",
              "width": 0.5
             },
             "pattern": {
              "fillmode": "overlay",
              "size": 10,
              "solidity": 0.2
             }
            },
            "type": "bar"
           }
          ],
          "barpolar": [
           {
            "marker": {
             "line": {
              "color": "#E5ECF6",
              "width": 0.5
             },
             "pattern": {
              "fillmode": "overlay",
              "size": 10,
              "solidity": 0.2
             }
            },
            "type": "barpolar"
           }
          ],
          "carpet": [
           {
            "aaxis": {
             "endlinecolor": "#2a3f5f",
             "gridcolor": "white",
             "linecolor": "white",
             "minorgridcolor": "white",
             "startlinecolor": "#2a3f5f"
            },
            "baxis": {
             "endlinecolor": "#2a3f5f",
             "gridcolor": "white",
             "linecolor": "white",
             "minorgridcolor": "white",
             "startlinecolor": "#2a3f5f"
            },
            "type": "carpet"
           }
          ],
          "choropleth": [
           {
            "colorbar": {
             "outlinewidth": 0,
             "ticks": ""
            },
            "type": "choropleth"
           }
          ],
          "contour": [
           {
            "colorbar": {
             "outlinewidth": 0,
             "ticks": ""
            },
            "colorscale": [
             [
              0,
              "#0d0887"
             ],
             [
              0.1111111111111111,
              "#46039f"
             ],
             [
              0.2222222222222222,
              "#7201a8"
             ],
             [
              0.3333333333333333,
              "#9c179e"
             ],
             [
              0.4444444444444444,
              "#bd3786"
             ],
             [
              0.5555555555555556,
              "#d8576b"
             ],
             [
              0.6666666666666666,
              "#ed7953"
             ],
             [
              0.7777777777777778,
              "#fb9f3a"
             ],
             [
              0.8888888888888888,
              "#fdca26"
             ],
             [
              1,
              "#f0f921"
             ]
            ],
            "type": "contour"
           }
          ],
          "contourcarpet": [
           {
            "colorbar": {
             "outlinewidth": 0,
             "ticks": ""
            },
            "type": "contourcarpet"
           }
          ],
          "heatmap": [
           {
            "colorbar": {
             "outlinewidth": 0,
             "ticks": ""
            },
            "colorscale": [
             [
              0,
              "#0d0887"
             ],
             [
              0.1111111111111111,
              "#46039f"
             ],
             [
              0.2222222222222222,
              "#7201a8"
             ],
             [
              0.3333333333333333,
              "#9c179e"
             ],
             [
              0.4444444444444444,
              "#bd3786"
             ],
             [
              0.5555555555555556,
              "#d8576b"
             ],
             [
              0.6666666666666666,
              "#ed7953"
             ],
             [
              0.7777777777777778,
              "#fb9f3a"
             ],
             [
              0.8888888888888888,
              "#fdca26"
             ],
             [
              1,
              "#f0f921"
             ]
            ],
            "type": "heatmap"
           }
          ],
          "heatmapgl": [
           {
            "colorbar": {
             "outlinewidth": 0,
             "ticks": ""
            },
            "colorscale": [
             [
              0,
              "#0d0887"
             ],
             [
              0.1111111111111111,
              "#46039f"
             ],
             [
              0.2222222222222222,
              "#7201a8"
             ],
             [
              0.3333333333333333,
              "#9c179e"
             ],
             [
              0.4444444444444444,
              "#bd3786"
             ],
             [
              0.5555555555555556,
              "#d8576b"
             ],
             [
              0.6666666666666666,
              "#ed7953"
             ],
             [
              0.7777777777777778,
              "#fb9f3a"
             ],
             [
              0.8888888888888888,
              "#fdca26"
             ],
             [
              1,
              "#f0f921"
             ]
            ],
            "type": "heatmapgl"
           }
          ],
          "histogram": [
           {
            "marker": {
             "pattern": {
              "fillmode": "overlay",
              "size": 10,
              "solidity": 0.2
             }
            },
            "type": "histogram"
           }
          ],
          "histogram2d": [
           {
            "colorbar": {
             "outlinewidth": 0,
             "ticks": ""
            },
            "colorscale": [
             [
              0,
              "#0d0887"
             ],
             [
              0.1111111111111111,
              "#46039f"
             ],
             [
              0.2222222222222222,
              "#7201a8"
             ],
             [
              0.3333333333333333,
              "#9c179e"
             ],
             [
              0.4444444444444444,
              "#bd3786"
             ],
             [
              0.5555555555555556,
              "#d8576b"
             ],
             [
              0.6666666666666666,
              "#ed7953"
             ],
             [
              0.7777777777777778,
              "#fb9f3a"
             ],
             [
              0.8888888888888888,
              "#fdca26"
             ],
             [
              1,
              "#f0f921"
             ]
            ],
            "type": "histogram2d"
           }
          ],
          "histogram2dcontour": [
           {
            "colorbar": {
             "outlinewidth": 0,
             "ticks": ""
            },
            "colorscale": [
             [
              0,
              "#0d0887"
             ],
             [
              0.1111111111111111,
              "#46039f"
             ],
             [
              0.2222222222222222,
              "#7201a8"
             ],
             [
              0.3333333333333333,
              "#9c179e"
             ],
             [
              0.4444444444444444,
              "#bd3786"
             ],
             [
              0.5555555555555556,
              "#d8576b"
             ],
             [
              0.6666666666666666,
              "#ed7953"
             ],
             [
              0.7777777777777778,
              "#fb9f3a"
             ],
             [
              0.8888888888888888,
              "#fdca26"
             ],
             [
              1,
              "#f0f921"
             ]
            ],
            "type": "histogram2dcontour"
           }
          ],
          "mesh3d": [
           {
            "colorbar": {
             "outlinewidth": 0,
             "ticks": ""
            },
            "type": "mesh3d"
           }
          ],
          "parcoords": [
           {
            "line": {
             "colorbar": {
              "outlinewidth": 0,
              "ticks": ""
             }
            },
            "type": "parcoords"
           }
          ],
          "pie": [
           {
            "automargin": true,
            "type": "pie"
           }
          ],
          "scatter": [
           {
            "marker": {
             "colorbar": {
              "outlinewidth": 0,
              "ticks": ""
             }
            },
            "type": "scatter"
           }
          ],
          "scatter3d": [
           {
            "line": {
             "colorbar": {
              "outlinewidth": 0,
              "ticks": ""
             }
            },
            "marker": {
             "colorbar": {
              "outlinewidth": 0,
              "ticks": ""
             }
            },
            "type": "scatter3d"
           }
          ],
          "scattercarpet": [
           {
            "marker": {
             "colorbar": {
              "outlinewidth": 0,
              "ticks": ""
             }
            },
            "type": "scattercarpet"
           }
          ],
          "scattergeo": [
           {
            "marker": {
             "colorbar": {
              "outlinewidth": 0,
              "ticks": ""
             }
            },
            "type": "scattergeo"
           }
          ],
          "scattergl": [
           {
            "marker": {
             "colorbar": {
              "outlinewidth": 0,
              "ticks": ""
             }
            },
            "type": "scattergl"
           }
          ],
          "scattermapbox": [
           {
            "marker": {
             "colorbar": {
              "outlinewidth": 0,
              "ticks": ""
             }
            },
            "type": "scattermapbox"
           }
          ],
          "scatterpolar": [
           {
            "marker": {
             "colorbar": {
              "outlinewidth": 0,
              "ticks": ""
             }
            },
            "type": "scatterpolar"
           }
          ],
          "scatterpolargl": [
           {
            "marker": {
             "colorbar": {
              "outlinewidth": 0,
              "ticks": ""
             }
            },
            "type": "scatterpolargl"
           }
          ],
          "scatterternary": [
           {
            "marker": {
             "colorbar": {
              "outlinewidth": 0,
              "ticks": ""
             }
            },
            "type": "scatterternary"
           }
          ],
          "surface": [
           {
            "colorbar": {
             "outlinewidth": 0,
             "ticks": ""
            },
            "colorscale": [
             [
              0,
              "#0d0887"
             ],
             [
              0.1111111111111111,
              "#46039f"
             ],
             [
              0.2222222222222222,
              "#7201a8"
             ],
             [
              0.3333333333333333,
              "#9c179e"
             ],
             [
              0.4444444444444444,
              "#bd3786"
             ],
             [
              0.5555555555555556,
              "#d8576b"
             ],
             [
              0.6666666666666666,
              "#ed7953"
             ],
             [
              0.7777777777777778,
              "#fb9f3a"
             ],
             [
              0.8888888888888888,
              "#fdca26"
             ],
             [
              1,
              "#f0f921"
             ]
            ],
            "type": "surface"
           }
          ],
          "table": [
           {
            "cells": {
             "fill": {
              "color": "#EBF0F8"
             },
             "line": {
              "color": "white"
             }
            },
            "header": {
             "fill": {
              "color": "#C8D4E3"
             },
             "line": {
              "color": "white"
             }
            },
            "type": "table"
           }
          ]
         },
         "layout": {
          "annotationdefaults": {
           "arrowcolor": "#2a3f5f",
           "arrowhead": 0,
           "arrowwidth": 1
          },
          "autotypenumbers": "strict",
          "coloraxis": {
           "colorbar": {
            "outlinewidth": 0,
            "ticks": ""
           }
          },
          "colorscale": {
           "diverging": [
            [
             0,
             "#8e0152"
            ],
            [
             0.1,
             "#c51b7d"
            ],
            [
             0.2,
             "#de77ae"
            ],
            [
             0.3,
             "#f1b6da"
            ],
            [
             0.4,
             "#fde0ef"
            ],
            [
             0.5,
             "#f7f7f7"
            ],
            [
             0.6,
             "#e6f5d0"
            ],
            [
             0.7,
             "#b8e186"
            ],
            [
             0.8,
             "#7fbc41"
            ],
            [
             0.9,
             "#4d9221"
            ],
            [
             1,
             "#276419"
            ]
           ],
           "sequential": [
            [
             0,
             "#0d0887"
            ],
            [
             0.1111111111111111,
             "#46039f"
            ],
            [
             0.2222222222222222,
             "#7201a8"
            ],
            [
             0.3333333333333333,
             "#9c179e"
            ],
            [
             0.4444444444444444,
             "#bd3786"
            ],
            [
             0.5555555555555556,
             "#d8576b"
            ],
            [
             0.6666666666666666,
             "#ed7953"
            ],
            [
             0.7777777777777778,
             "#fb9f3a"
            ],
            [
             0.8888888888888888,
             "#fdca26"
            ],
            [
             1,
             "#f0f921"
            ]
           ],
           "sequentialminus": [
            [
             0,
             "#0d0887"
            ],
            [
             0.1111111111111111,
             "#46039f"
            ],
            [
             0.2222222222222222,
             "#7201a8"
            ],
            [
             0.3333333333333333,
             "#9c179e"
            ],
            [
             0.4444444444444444,
             "#bd3786"
            ],
            [
             0.5555555555555556,
             "#d8576b"
            ],
            [
             0.6666666666666666,
             "#ed7953"
            ],
            [
             0.7777777777777778,
             "#fb9f3a"
            ],
            [
             0.8888888888888888,
             "#fdca26"
            ],
            [
             1,
             "#f0f921"
            ]
           ]
          },
          "colorway": [
           "#636efa",
           "#EF553B",
           "#00cc96",
           "#ab63fa",
           "#FFA15A",
           "#19d3f3",
           "#FF6692",
           "#B6E880",
           "#FF97FF",
           "#FECB52"
          ],
          "font": {
           "color": "#2a3f5f"
          },
          "geo": {
           "bgcolor": "white",
           "lakecolor": "white",
           "landcolor": "#E5ECF6",
           "showlakes": true,
           "showland": true,
           "subunitcolor": "white"
          },
          "hoverlabel": {
           "align": "left"
          },
          "hovermode": "closest",
          "mapbox": {
           "style": "light"
          },
          "paper_bgcolor": "white",
          "plot_bgcolor": "#E5ECF6",
          "polar": {
           "angularaxis": {
            "gridcolor": "white",
            "linecolor": "white",
            "ticks": ""
           },
           "bgcolor": "#E5ECF6",
           "radialaxis": {
            "gridcolor": "white",
            "linecolor": "white",
            "ticks": ""
           }
          },
          "scene": {
           "xaxis": {
            "backgroundcolor": "#E5ECF6",
            "gridcolor": "white",
            "gridwidth": 2,
            "linecolor": "white",
            "showbackground": true,
            "ticks": "",
            "zerolinecolor": "white"
           },
           "yaxis": {
            "backgroundcolor": "#E5ECF6",
            "gridcolor": "white",
            "gridwidth": 2,
            "linecolor": "white",
            "showbackground": true,
            "ticks": "",
            "zerolinecolor": "white"
           },
           "zaxis": {
            "backgroundcolor": "#E5ECF6",
            "gridcolor": "white",
            "gridwidth": 2,
            "linecolor": "white",
            "showbackground": true,
            "ticks": "",
            "zerolinecolor": "white"
           }
          },
          "shapedefaults": {
           "line": {
            "color": "#2a3f5f"
           }
          },
          "ternary": {
           "aaxis": {
            "gridcolor": "white",
            "linecolor": "white",
            "ticks": ""
           },
           "baxis": {
            "gridcolor": "white",
            "linecolor": "white",
            "ticks": ""
           },
           "bgcolor": "#E5ECF6",
           "caxis": {
            "gridcolor": "white",
            "linecolor": "white",
            "ticks": ""
           }
          },
          "title": {
           "x": 0.05
          },
          "xaxis": {
           "automargin": true,
           "gridcolor": "white",
           "linecolor": "white",
           "ticks": "",
           "title": {
            "standoff": 15
           },
           "zerolinecolor": "white",
           "zerolinewidth": 2
          },
          "yaxis": {
           "automargin": true,
           "gridcolor": "white",
           "linecolor": "white",
           "ticks": "",
           "title": {
            "standoff": 15
           },
           "zerolinecolor": "white",
           "zerolinewidth": 2
          }
         }
        },
        "title": {
         "text": "GP183_HUMAN G-protein coupled receptor 183"
        }
       }
      }
     },
     "metadata": {},
     "output_type": "display_data"
    }
   ],
   "source": [
    "test = Protein(name, sequence, metrics)\n",
    "\n",
    "fig = test.plot()\n",
    "\n",
    "fig.show()"
   ]
  },
  {
   "cell_type": "markdown",
   "id": "committed-publication",
   "metadata": {},
   "source": [
    "## C) Plot\n",
    "\n",
    "Create a method that has the following signature:"
   ]
  },
  {
   "cell_type": "code",
   "execution_count": 13,
   "id": "2c1e8cf4",
   "metadata": {},
   "outputs": [],
   "source": [
    "def plot(self, metric=\"hydropathy\", window_size=1):\n",
    "    \"\"\"Create plotly fig object.\n",
    "\n",
    "    The title of the fig contains protein name, \n",
    "    the x axis is the amino acid position (int) and\n",
    "    y axis shows the metric at each given position. \n",
    "    A windows size can be specified to average the metrics using a sliding window \n",
    "\n",
    "    Args:\n",
    "        metric (str, optional): Is equal to the key of the metrics dictionary the class was initialized with. \n",
    "            Defaults to \"hydropathy\".\n",
    "        window_size (int, optional): Size of the sliding window. Defaults to 5.\n",
    "    \"\"\"\n",
    "    \n",
    "    return fig\n"
   ]
  },
  {
   "cell_type": "markdown",
   "id": "hollow-banks",
   "metadata": {},
   "source": [
    "## E) What do you observe?\n",
    "Describe the pattern you see. What could be the reason for the pattern?"
   ]
  },
  {
   "cell_type": "markdown",
   "id": "amazing-sweden",
   "metadata": {},
   "source": [
    "# Optional"
   ]
  },
  {
   "cell_type": "markdown",
   "id": "beautiful-sucking",
   "metadata": {},
   "source": [
    "### Retrieve sequence programmatically\n",
    "* Write a function that takes the uniprot identifier as kwarg and returns the sequence using\n",
    "    * the buffered sequence from e2\n",
    "    * using urllib\n",
    "    * using an alternative?\n",
    "\n",
    "### Plot annotations into the hydropathy plot\n",
    "* Plot protein topology features into the same plot \n"
   ]
  },
  {
   "cell_type": "code",
   "execution_count": null,
   "id": "distinguished-better",
   "metadata": {},
   "outputs": [],
   "source": []
  }
 ],
 "metadata": {
  "interpreter": {
   "hash": "1db61796eef522af4c3bfa7a1992d331ca5efcfc6f3218f7d019c02f1fab5e13"
  },
  "kernelspec": {
   "display_name": "Python 3.7.9 64-bit ('.venv': venv)",
   "name": "python3"
  },
  "language_info": {
   "codemirror_mode": {
    "name": "ipython",
    "version": 3
   },
   "file_extension": ".py",
   "mimetype": "text/x-python",
   "name": "python",
   "nbconvert_exporter": "python",
   "pygments_lexer": "ipython3",
   "version": "3.9.8"
  }
 },
 "nbformat": 4,
 "nbformat_minor": 5
}
