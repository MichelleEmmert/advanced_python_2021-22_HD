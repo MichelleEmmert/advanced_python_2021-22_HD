{
 "cells": [
  {
   "cell_type": "code",
   "execution_count": 4,
   "id": "interior-mambo",
   "metadata": {
    "slideshow": {
     "slide_type": "slide"
    }
   },
   "outputs": [
    {
     "data": {
      "text/markdown": [
       "# Advanced Python Course \n",
       "## Mobi Heidelberg WS 2021/22\n",
       "### by Christian Fufezan \n",
       "\n",
       "christian@fufezan.net\n",
       "\n",
       "https://fufezan.net\n",
       "\n",
       "<img src=\"./images/cc.png\" alt=\"drawing\" width=\"200\" style=\"float: left;\"/>\n"
      ],
      "text/plain": [
       "<IPython.core.display.Markdown object>"
      ]
     },
     "metadata": {},
     "output_type": "display_data"
    }
   ],
   "source": [
    "import course;course.header()"
   ]
  },
  {
   "cell_type": "markdown",
   "id": "special-vermont",
   "metadata": {
    "slideshow": {
     "slide_type": "slide"
    }
   },
   "source": [
    "## lists and generators"
   ]
  },
  {
   "cell_type": "code",
   "execution_count": 1,
   "id": "radio-theme",
   "metadata": {},
   "outputs": [
    {
     "data": {
      "text/plain": [
       "[0, 1, 2, 3, 4, 5, 6, 7, 8, 9, 10]"
      ]
     },
     "execution_count": 1,
     "metadata": {},
     "output_type": "execute_result"
    }
   ],
   "source": [
    "a = [x for x in range(11)]\n",
    "a"
   ]
  },
  {
   "cell_type": "code",
   "execution_count": 2,
   "id": "capital-matter",
   "metadata": {},
   "outputs": [
    {
     "data": {
      "text/plain": [
       "[0, 1, 2, 3, 4, 5, 6, 7, 8, 9, 10]"
      ]
     },
     "execution_count": 2,
     "metadata": {},
     "output_type": "execute_result"
    }
   ],
   "source": [
    "\n",
    "a = []\n",
    "for x in range(11):\n",
    "    a.append(x)\n",
    "a"
   ]
  },
  {
   "cell_type": "code",
   "execution_count": 3,
   "id": "democratic-rotation",
   "metadata": {},
   "outputs": [
    {
     "data": {
      "text/plain": [
       "{0: 0, 1: 1, 2: 4, 3: 9, 4: 16, 5: 25, 6: 36, 7: 49, 8: 64, 9: 81, 10: 100}"
      ]
     },
     "execution_count": 3,
     "metadata": {},
     "output_type": "execute_result"
    }
   ],
   "source": [
    "a = {x: x**2 for x in range(11)}\n",
    "a"
   ]
  },
  {
   "cell_type": "code",
   "execution_count": 4,
   "id": "balanced-damages",
   "metadata": {},
   "outputs": [
    {
     "data": {
      "text/plain": [
       "<generator object <genexpr> at 0x000002576603EC10>"
      ]
     },
     "execution_count": 4,
     "metadata": {},
     "output_type": "execute_result"
    }
   ],
   "source": [
    "(x/10. for x in range(1000))"
   ]
  },
  {
   "cell_type": "markdown",
   "id": "9bb4ec03",
   "metadata": {},
   "source": [
    "Why use generators?"
   ]
  },
  {
   "cell_type": "code",
   "execution_count": 5,
   "id": "frozen-attack",
   "metadata": {},
   "outputs": [
    {
     "name": "stdout",
     "output_type": "stream",
     "text": [
      "\n",
      "Object 1 allocates 8856 bytes\n",
      "Object 2 allocates 112 bytes\n",
      "\n"
     ]
    }
   ],
   "source": [
    "import sys\n",
    "\n",
    "object_1 = [x/10. for x in range(1000)]\n",
    "object_2 = (x/10. for x in range(1000))\n",
    "\n",
    "print(\"\"\"\n",
    "Object 1 allocates {0} bytes\n",
    "Object 2 allocates {1} bytes\n",
    "\"\"\".format(\n",
    "    sys.getsizeof(object_1),\n",
    "    sys.getsizeof(object_2),\n",
    "))\n",
    "\n"
   ]
  },
  {
   "cell_type": "markdown",
   "id": "another-stock",
   "metadata": {
    "slideshow": {
     "slide_type": "slide"
    }
   },
   "source": [
    "quick recap, what's the result of the following lines"
   ]
  },
  {
   "cell_type": "code",
   "execution_count": 6,
   "id": "unlike-mileage",
   "metadata": {},
   "outputs": [],
   "source": [
    "a = [1, 2, 5, 7]"
   ]
  },
  {
   "cell_type": "code",
   "execution_count": 7,
   "id": "adaptive-marks",
   "metadata": {},
   "outputs": [
    {
     "data": {
      "text/plain": [
       "['>>', 1, 2, 5, 7]"
      ]
     },
     "execution_count": 7,
     "metadata": {},
     "output_type": "execute_result"
    }
   ],
   "source": [
    "a.insert(0, \">>\")\n",
    "a"
   ]
  },
  {
   "cell_type": "code",
   "execution_count": 8,
   "id": "informal-mapping",
   "metadata": {},
   "outputs": [
    {
     "data": {
      "text/plain": [
       "[1, 2, 5, 7]"
      ]
     },
     "execution_count": 8,
     "metadata": {},
     "output_type": "execute_result"
    }
   ],
   "source": [
    "a.pop(0)\n",
    "a"
   ]
  },
  {
   "cell_type": "markdown",
   "id": "b8175f5d",
   "metadata": {},
   "source": [
    "How to iter over a and get posistion at the same time?"
   ]
  },
  {
   "cell_type": "code",
   "execution_count": null,
   "id": "d052497b",
   "metadata": {},
   "outputs": [],
   "source": [
    "for element in a:\n",
    "    pass"
   ]
  },
  {
   "cell_type": "code",
   "execution_count": 10,
   "id": "developmental-couple",
   "metadata": {},
   "outputs": [
    {
     "name": "stdout",
     "output_type": "stream",
     "text": [
      "0 1\n",
      "1 2\n",
      "2 5\n",
      "3 7\n"
     ]
    }
   ],
   "source": [
    "for pos, element in enumerate(a):\n",
    "    print(pos, element)"
   ]
  },
  {
   "cell_type": "markdown",
   "id": "sharing-absence",
   "metadata": {
    "slideshow": {
     "slide_type": "subslide"
    }
   },
   "source": [
    "how to get the position of the element during iteration?"
   ]
  },
  {
   "cell_type": "code",
   "execution_count": 28,
   "id": "banner-moderator",
   "metadata": {},
   "outputs": [],
   "source": [
    "a = dict([('King', 1), ('Queen', 2), ('Knight', 'A')])"
   ]
  },
  {
   "cell_type": "code",
   "execution_count": 31,
   "id": "strategic-gates",
   "metadata": {},
   "outputs": [
    {
     "name": "stdout",
     "output_type": "stream",
     "text": [
      "0 King\n",
      "1 Queen\n",
      "2 Knight\n"
     ]
    }
   ],
   "source": [
    "for pos, values in enumerate(a):\n",
    "    print(pos, values)"
   ]
  },
  {
   "cell_type": "markdown",
   "id": "little-interstate",
   "metadata": {
    "slideshow": {
     "slide_type": "slide"
    }
   },
   "source": [
    "## bisect module"
   ]
  },
  {
   "cell_type": "markdown",
   "id": "5da28dd8",
   "metadata": {},
   "source": [
    "Bisect module allows to find positions in a sorted list into which a given element can be inserted without loosing its sorting.\n",
    "\n",
    "Essential element in binary tree searches and similar techniques.\n",
    "\n",
    "Exists also in numpy!"
   ]
  },
  {
   "cell_type": "code",
   "execution_count": 32,
   "id": "expected-reaction",
   "metadata": {},
   "outputs": [
    {
     "data": {
      "text/plain": [
       "2"
      ]
     },
     "execution_count": 32,
     "metadata": {},
     "output_type": "execute_result"
    }
   ],
   "source": [
    "import bisect\n",
    "a = [1, 3, 6, 12, 14, 16]\n",
    "bisect.bisect(a, 4)"
   ]
  },
  {
   "cell_type": "markdown",
   "id": "cbf6fd84",
   "metadata": {},
   "source": [
    "Bisect right adds the number on the right side after the previous number, and left on the left side."
   ]
  },
  {
   "cell_type": "code",
   "execution_count": 33,
   "id": "measured-martin",
   "metadata": {},
   "outputs": [
    {
     "data": {
      "text/plain": [
       "2"
      ]
     },
     "execution_count": 33,
     "metadata": {},
     "output_type": "execute_result"
    }
   ],
   "source": [
    "bisect.bisect_right(a, 3)"
   ]
  },
  {
   "cell_type": "code",
   "execution_count": 34,
   "id": "irish-publicity",
   "metadata": {},
   "outputs": [
    {
     "data": {
      "text/plain": [
       "1"
      ]
     },
     "execution_count": 34,
     "metadata": {},
     "output_type": "execute_result"
    }
   ],
   "source": [
    "bisect.bisect_left(a, 3)"
   ]
  },
  {
   "cell_type": "markdown",
   "id": "758686f3",
   "metadata": {},
   "source": [
    "In the next example, the element is on the position 1 then, as R comes before T in the Alphabet. This answers the questions beneath."
   ]
  },
  {
   "cell_type": "code",
   "execution_count": 35,
   "id": "sensitive-luxembourg",
   "metadata": {},
   "outputs": [
    {
     "data": {
      "text/plain": [
       "1"
      ]
     },
     "execution_count": 35,
     "metadata": {},
     "output_type": "execute_result"
    }
   ],
   "source": [
    "# also works with more complex lists, as long the elements are comparable\n",
    "a = [(1, \"First\"), (3, \"Third\"), (6, \"too late\")]\n",
    "new_element = (3, \"Really add some more stuff\")\n",
    "bisect.bisect(a, new_element)"
   ]
  },
  {
   "cell_type": "markdown",
   "id": "smart-advice",
   "metadata": {},
   "source": [
    "why 1 and not 2 ?"
   ]
  },
  {
   "cell_type": "markdown",
   "id": "16ca6c1a",
   "metadata": {},
   "source": [
    "See the answer above. R comes before T."
   ]
  },
  {
   "cell_type": "markdown",
   "id": "sonic-passion",
   "metadata": {},
   "source": [
    "How to to get 2?"
   ]
  },
  {
   "cell_type": "markdown",
   "id": "a98747b6",
   "metadata": {},
   "source": [
    "If adding a string starting with a letter that comes after T, e.g. U, or when changing the first number to 4 or 5, so a number bigger than 3, but smaller than 6."
   ]
  },
  {
   "cell_type": "code",
   "execution_count": 36,
   "id": "narrative-breakdown",
   "metadata": {},
   "outputs": [
    {
     "data": {
      "text/plain": [
       "2"
      ]
     },
     "execution_count": 36,
     "metadata": {},
     "output_type": "execute_result"
    }
   ],
   "source": [
    "a = [(1, \"First\"), (3, \"Third\"), (6, \"too late\")]\n",
    "new_element = (4, \"Really add some more stuff\")\n",
    "bisect.bisect(a, new_element)"
   ]
  }
 ],
 "metadata": {
  "interpreter": {
   "hash": "1db61796eef522af4c3bfa7a1992d331ca5efcfc6f3218f7d019c02f1fab5e13"
  },
  "kernelspec": {
   "display_name": "Python 3.7.9 64-bit ('.venv': venv)",
   "name": "python3"
  },
  "language_info": {
   "codemirror_mode": {
    "name": "ipython",
    "version": 3
   },
   "file_extension": ".py",
   "mimetype": "text/x-python",
   "name": "python",
   "nbconvert_exporter": "python",
   "pygments_lexer": "ipython3",
   "version": "3.8.10"
  }
 },
 "nbformat": 4,
 "nbformat_minor": 5
}
