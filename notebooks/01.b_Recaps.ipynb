{
 "cells": [
  {
   "cell_type": "code",
   "execution_count": null,
   "metadata": {
    "slideshow": {
     "slide_type": "slide"
    }
   },
   "outputs": [],
   "source": [
    "import course;course.header()"
   ]
  },
  {
   "cell_type": "markdown",
   "metadata": {
    "slideshow": {
     "slide_type": "slide"
    }
   },
   "source": [
    "# Mission statement\n",
    "\n",
    "I'd like to teach you \n",
    "* What I think is advanced Python\n",
    "* Give you my view on how to code (and how not to code)\n",
    "* Introduce you to \n",
    "    * code structure\n",
    "    * code testing\n",
    "    * code documentation\n",
    "* Show case some useful python modules (that you might know of or not)\n",
    "* \\[ What you want to learn \\]\n"
   ]
  },
  {
   "cell_type": "markdown",
   "metadata": {
    "slideshow": {
     "slide_type": "subslide"
    }
   },
   "source": [
    "# Project show cases"
   ]
  },
  {
   "cell_type": "markdown",
   "metadata": {},
   "source": [
    "\n",
    "### pymzML\n",
    "\n",
    "pymzML is an extension to Python that offers\n",
    "* easy access to mass spectrometry (MS) data that allows the rapid development of tools\n",
    "* a very fast parser for mzML data, the standard mass spectrometry data format\n",
    "* a set of functions to compare and/or handle spectra\n",
    "* random access in compressed files\n",
    "* interactive data visualization\n",
    "\n",
    "M Kösters, J Leufken, S Schulze, K Sugimoto, J Klein, R P Zahedi, M Hippler, S A Leidel, C Fufezan; pymzML v2.0: introducing a highly compressed and seekable gzip format, Bioinformatics, doi: https://doi.org/10.1093/bioinformatics/bty046\n",
    "\n",
    "T Bald, J Barth, A Niehues, M Specht, M Hippler, C Fufezan; pymzML - Python module for high-throughput bioinformatics on mass spectrometry data, Bioinformatics, doi: https://doi.org/10.1093/bioinformatics/bts066 \n",
    "\n",
    "|![](https://travis-ci.org/pymzml/pymzML.svg?branch=master)|![](https://ci.appveyor.com/api/projects/status/4nlw52a9qn22921d?svg=true)|![](https://readthedocs.org/projects/pymzml/badge/?version=latest)|![](https://codecov.io/gh/pymzml/pymzml/branch/master/graph/badge.svg)|![](https://img.shields.io/pypi/v/pymzML.svg)|![](https://pepy.tech/badge/pymzml)|![](https://img.shields.io/badge/code%20style-black-000000.svg)|\n",
    "|:---:|:---:|:---:|:---:|:---:|:---:|:---:|\n",
    "|[travis](https://travis-ci.org/pymzml/pymzML)|[appveyor](https://ci.appveyor.com/project/fufezan-lab/pymzml)|[rtd](http://pymzml.readthedocs.io/en/latest/?badge=latest)|[codecov](https://codecov.io/gh/pymzml/pymzml)|[pypi](https://pypi.org/project/pymzML/)|[pepy](https://pepy.tech/project/pymzml)|[black](https://github.com/psf/black)|\n"
   ]
  },
  {
   "cell_type": "markdown",
   "metadata": {
    "slideshow": {
     "slide_type": "subslide"
    }
   },
   "source": [
    "### pyQms\n",
    "\n",
    "pyQms is an extension to Python that offers amongst other things\n",
    "* fast and accurate quantification of all high-res LC-MS data\n",
    "* full labeling and modification flexibility\n",
    "* full platform independence\n",
    "\n",
    "\n",
    "Leufken, J., Niehues, A., Hippler, M., Sarin, L. P., Hippler, M., Leidel, S. A., and Fufezan, C. (2017) pyQms enables universal and accurate quantification of mass spectrometry data. MCP, https://doi.org/10.1074/mcp.M117.068007\n",
    "\n",
    "|![](https://travis-ci.org/pyQms/pyqms.svg?branch=master)|![](https://ci.appveyor.com/api/projects/status/n4x2ug7h3ce4d49y?svg=true)|![](https://readthedocs.org/projects/pyqms/badge/?version=latest)|![](https://img.shields.io/pypi/v/pyqms.svg)|![](https://img.shields.io/badge/code%20style-black-000000.svg)|\n",
    "|:---:|:---:|:---:|:---:|:---:|\n",
    "|[travis](https://travis-ci.org/pyQms/pyqms)|[appveyor](https://ci.appveyor.com/project/fufezan-lab/pyqms)|[rtd](http://pyqms.readthedocs.io/en/latest/?badge=latest)|[pypi](https://pypi.org/project/pyqms/)|[black](https://github.com/psf/black)|\n"
   ]
  },
  {
   "cell_type": "markdown",
   "metadata": {
    "slideshow": {
     "slide_type": "subslide"
    }
   },
   "source": [
    "### ursgal\n",
    "\n",
    "ursgal - Universal Python Module Combining Common Bottom-Up Proteomics Tools for Large-Scale Analysis\n",
    "* Peptide spectrum matching with up to eight different search engines (some available in multiple versions), including three open modification search engines\n",
    "* Evaluation and post processing of search results with up to two different engines\n",
    "* Integration of search results from different search engines\n",
    "* De novo sequencing with up to two different search engines\n",
    "* Miscellaneous tools including the creation of a target decoy database as well as filtering, sanitizing and visualizing of results\n",
    "\n",
    "\n",
    "Kremer, L. P. M., Leufken, J., Oyunchimeg, P., Schulze, S. and Fufezan, C.\n",
    "(2015) Ursgal, Universal Python Module Combining Common Bottom-Up Proteomics Tools for Large-Scale Analysis, Journal of Proteome research, 15, 788-.\n",
    "DOI:10.1021/acs.jproteome.5b00860*\n",
    "\n",
    "|![](https://travis-ci.org/ursgal/ursgal.svg?branch=master)|![](https://ci.appveyor.com/api/projects/status/hel9rowah1u3rfe1?svg=true)|![](http://readthedocs.org/projects/ursgal/badge/?version=latest)|![](https://badge.fury.io/py/ursgal.svg)|\n",
    "|:---:|:---:|:---:|:---:|\n",
    "|[travis](https://travis-ci.org/ursgal/ursgal)|[appveyor](https://ci.appveyor.com/project/fufezan-lab/ursgal)|[rtd](http://ursgal.readthedocs.io/en/latest/?badge=latest)|[pypi](https://badge.fury.io/py/ursgal/)|\n"
   ]
  },
  {
   "cell_type": "markdown",
   "metadata": {
    "slideshow": {
     "slide_type": "subslide"
    }
   },
   "source": [
    "## a lasting name \n",
    "http://proteomicsnews.blogspot.com/2017/02/ursgal-combine-all-python-proteomics.html\n",
    "\n",
    "<img style=\"right\" src=\"./images/proteomics-blog.png\">"
   ]
  },
  {
   "cell_type": "markdown",
   "metadata": {
    "slideshow": {
     "slide_type": "slide"
    }
   },
   "source": [
    "# Python beginner recap"
   ]
  },
  {
   "cell_type": "markdown",
   "metadata": {
    "slideshow": {
     "slide_type": "slide"
    }
   },
   "source": [
    "## Python basic type"
   ]
  },
  {
   "cell_type": "markdown",
   "metadata": {},
   "source": [
    "* int\n",
    "* float\n",
    "* str\n",
    "* list\n",
    "* tuple\n",
    "* set\n",
    "* dict\n",
    "\n",
    "Have been covered else where. Quick recap, what's the outcome of these lines ..."
   ]
  },
  {
   "cell_type": "code",
   "execution_count": 1,
   "metadata": {},
   "outputs": [
    {
     "data": {
      "text/plain": [
       "float"
      ]
     },
     "execution_count": 1,
     "metadata": {},
     "output_type": "execute_result"
    }
   ],
   "source": [
    "a = 34 + 3.2\n",
    "type(a)"
   ]
  },
  {
   "cell_type": "markdown",
   "metadata": {},
   "source": [
    "In the next cell the syntax is:\n",
    "a[start:stop:step]\n",
    "So if there is no start and stop as in the next example, everything is taken. If the step is negative, it is printed backwards."
   ]
  },
  {
   "cell_type": "code",
   "execution_count": 2,
   "metadata": {},
   "outputs": [
    {
     "data": {
      "text/plain": [
       "'neve ro ddo reveN'"
      ]
     },
     "execution_count": 2,
     "metadata": {},
     "output_type": "execute_result"
    }
   ],
   "source": [
    "a = \"Never odd\" + \" or even\"\n",
    "a[::-1]"
   ]
  },
  {
   "cell_type": "markdown",
   "metadata": {},
   "source": [
    "If stop contains a negative value as in the next example, the last 4 characters are not printed."
   ]
  },
  {
   "cell_type": "code",
   "execution_count": 5,
   "metadata": {},
   "outputs": [
    {
     "data": {
      "text/plain": [
       "'Never odd or '"
      ]
     },
     "execution_count": 5,
     "metadata": {},
     "output_type": "execute_result"
    }
   ],
   "source": [
    "a[:-4]"
   ]
  },
  {
   "cell_type": "markdown",
   "metadata": {},
   "source": [
    "If start contains a negative value, it starts in the back instead in the beginning."
   ]
  },
  {
   "cell_type": "code",
   "execution_count": 10,
   "metadata": {},
   "outputs": [
    {
     "data": {
      "text/plain": [
       "'eve'"
      ]
     },
     "execution_count": 10,
     "metadata": {},
     "output_type": "execute_result"
    }
   ],
   "source": [
    "a[-4:]"
   ]
  },
  {
   "cell_type": "code",
   "execution_count": 13,
   "metadata": {},
   "outputs": [
    {
     "data": {
      "text/plain": [
       "'ee'"
      ]
     },
     "execution_count": 13,
     "metadata": {},
     "output_type": "execute_result"
    }
   ],
   "source": [
    "a[-4:-1:2]"
   ]
  },
  {
   "cell_type": "markdown",
   "metadata": {},
   "source": [
    "In the next example a error is put out, as strings are unchangeable. Here a qucik summary of other data types\n",
    "\n",
    "\n",
    "1. List is a collection which is ordered and changeable. Allows duplicate members.\n",
    "\n",
    "2. Tuple is a collection which is ordered and unchangeable. Allows duplicate members.\n",
    "\n",
    "3. Set is a collection which is unordered, unchangeable, and unindexed. No duplicate members.\n",
    "\n",
    "4. Dictionary is a collection which is ordered* and changeable. No duplicate members."
   ]
  },
  {
   "cell_type": "code",
   "execution_count": 14,
   "metadata": {},
   "outputs": [
    {
     "ename": "TypeError",
     "evalue": "'str' object does not support item assignment",
     "output_type": "error",
     "traceback": [
      "\u001b[1;31m---------------------------------------------------------------------------\u001b[0m",
      "\u001b[1;31mTypeError\u001b[0m                                 Traceback (most recent call last)",
      "\u001b[1;32m~\\AppData\\Local\\Temp/ipykernel_18740/2172482994.py\u001b[0m in \u001b[0;36m<module>\u001b[1;34m\u001b[0m\n\u001b[1;32m----> 1\u001b[1;33m \u001b[0ma\u001b[0m\u001b[1;33m[\u001b[0m\u001b[1;36m0\u001b[0m\u001b[1;33m]\u001b[0m \u001b[1;33m=\u001b[0m \u001b[1;34m'n'\u001b[0m\u001b[1;33m\u001b[0m\u001b[1;33m\u001b[0m\u001b[0m\n\u001b[0m",
      "\u001b[1;31mTypeError\u001b[0m: 'str' object does not support item assignment"
     ]
    }
   ],
   "source": [
    "a[0] = 'n'"
   ]
  },
  {
   "cell_type": "markdown",
   "metadata": {},
   "source": [
    "The split function splits strings after the character in the brackets, which is empty in the following case, therefore after every space the string is splitted."
   ]
  },
  {
   "cell_type": "code",
   "execution_count": 15,
   "metadata": {},
   "outputs": [
    {
     "data": {
      "text/plain": [
       "['Never', 'odd', 'or', 'even']"
      ]
     },
     "execution_count": 15,
     "metadata": {},
     "output_type": "execute_result"
    }
   ],
   "source": [
    "a.split()"
   ]
  },
  {
   "cell_type": "markdown",
   "metadata": {},
   "source": [
    "The output is of the type list."
   ]
  },
  {
   "cell_type": "code",
   "execution_count": 16,
   "metadata": {},
   "outputs": [
    {
     "data": {
      "text/plain": [
       "list"
      ]
     },
     "execution_count": 16,
     "metadata": {},
     "output_type": "execute_result"
    }
   ],
   "source": [
    "type(a.split())"
   ]
  },
  {
   "cell_type": "markdown",
   "metadata": {},
   "source": [
    "In the following a dictionary is created. The first element are the keys, the second the values. They can be of ANY type!"
   ]
  },
  {
   "cell_type": "code",
   "execution_count": 21,
   "metadata": {},
   "outputs": [],
   "source": [
    "b = { (12,32): \"Well done ... \"}"
   ]
  },
  {
   "cell_type": "code",
   "execution_count": 22,
   "metadata": {},
   "outputs": [
    {
     "data": {
      "text/plain": [
       "{'W': 'Well done ... '}"
      ]
     },
     "execution_count": 22,
     "metadata": {},
     "output_type": "execute_result"
    }
   ],
   "source": [
    "b"
   ]
  },
  {
   "cell_type": "markdown",
   "metadata": {},
   "source": [
    "In the next cell we work with sets. As mentioned above sets are collections which are unordered, unchangeable, and unindexed. No duplicate members.\n",
    "\n",
    "The sets can contain any data type, but lists and dicts as these are mutable\n",
    "\n",
    "They can be created with these brackets: {XXX} or with the command set(). In this command round () as well as square [] brackets can be used."
   ]
  },
  {
   "cell_type": "markdown",
   "metadata": {},
   "source": [
    "In the following it is shown, how set unions can be created with this: | operator or with .union()."
   ]
  },
  {
   "cell_type": "code",
   "execution_count": 25,
   "metadata": {},
   "outputs": [
    {
     "data": {
      "text/plain": [
       "{'bar', 'baz', 'foo', 'quux', 'qux'}"
      ]
     },
     "execution_count": 25,
     "metadata": {},
     "output_type": "execute_result"
    }
   ],
   "source": [
    "x1 = {'foo', 'bar', 'baz'}\n",
    "x2 = {'baz', 'qux', 'quux'}\n",
    "x1 | x2\n",
    "x1.union(x2)"
   ]
  },
  {
   "cell_type": "markdown",
   "metadata": {},
   "source": [
    "The operation x1 - x2 puts out the differences between those, meaning all elements that are in x1, but not in x2."
   ]
  },
  {
   "cell_type": "code",
   "execution_count": 23,
   "metadata": {},
   "outputs": [
    {
     "data": {
      "text/plain": [
       "{12}"
      ]
     },
     "execution_count": 23,
     "metadata": {},
     "output_type": "execute_result"
    }
   ],
   "source": [
    "set([12, 13, 14]) - set([13, 14, 15])"
   ]
  },
  {
   "cell_type": "markdown",
   "metadata": {},
   "source": [
    "The operator & gives the intersection."
   ]
  },
  {
   "cell_type": "code",
   "execution_count": 26,
   "metadata": {},
   "outputs": [
    {
     "data": {
      "text/plain": [
       "{13, 14}"
      ]
     },
     "execution_count": 26,
     "metadata": {},
     "output_type": "execute_result"
    }
   ],
   "source": [
    "set([12, 13, 14]) & set([13, 14, 15])"
   ]
  },
  {
   "cell_type": "markdown",
   "metadata": {
    "slideshow": {
     "slide_type": "slide"
    }
   },
   "source": [
    "## Python comparisons"
   ]
  },
  {
   "cell_type": "markdown",
   "metadata": {},
   "source": [
    "* \\>\n",
    "* \\>=\n",
    "* ==\n",
    "* <=\n",
    "* <\n",
    "* is\n",
    "\n",
    "Have been covered elsewhere. Quick recap, what's the outpcome of these lines ..."
   ]
  },
  {
   "cell_type": "code",
   "execution_count": 27,
   "metadata": {},
   "outputs": [
    {
     "data": {
      "text/plain": [
       "True"
      ]
     },
     "execution_count": 27,
     "metadata": {},
     "output_type": "execute_result"
    }
   ],
   "source": [
    "a = 42\n",
    "39.9 < a <= 42"
   ]
  },
  {
   "cell_type": "markdown",
   "metadata": {},
   "source": [
    "In the next example, the string is the same, but a is not the same as b, they are still different variables, but with the same content. That means a is not b but a contains the same (==) as b."
   ]
  },
  {
   "cell_type": "code",
   "execution_count": 28,
   "metadata": {},
   "outputs": [
    {
     "name": "stdout",
     "output_type": "stream",
     "text": [
      "a is b? False\n",
      "a == b True\n"
     ]
    }
   ],
   "source": [
    "a = \"Nature is lethal but it doesn't hold a candle to man.\"\n",
    "b = \"Nature is lethal but it doesn't hold a candle to man.\"\n",
    "print(\"a is b?\", a is b)\n",
    "print(\"a == b\", a == b)"
   ]
  },
  {
   "cell_type": "markdown",
   "metadata": {},
   "source": [
    "In the following example it is shown, that in the if statement it is important, to not only write \"if authentication\" but to add \"is True\" to define exactly what the input should be like to pass the password. If not doing so, the password is not only given for authentication == True, but also for example for a filled list, as this is True per definition."
   ]
  },
  {
   "cell_type": "code",
   "execution_count": 33,
   "metadata": {
    "slideshow": {
     "slide_type": "subslide"
    }
   },
   "outputs": [],
   "source": [
    "\n",
    "def release_password(authentication=False):\n",
    "    answer = \"Not authenticated\"\n",
    "    if authentication:\n",
    "        answer = \"Here is your password\"\n",
    "    return answer"
   ]
  },
  {
   "cell_type": "code",
   "execution_count": 34,
   "metadata": {},
   "outputs": [
    {
     "data": {
      "text/plain": [
       "'Here is your password'"
      ]
     },
     "execution_count": 34,
     "metadata": {},
     "output_type": "execute_result"
    }
   ],
   "source": [
    "release_password(authentication=True)"
   ]
  },
  {
   "cell_type": "code",
   "execution_count": 35,
   "metadata": {},
   "outputs": [
    {
     "data": {
      "text/plain": [
       "'Not authenticated'"
      ]
     },
     "execution_count": 35,
     "metadata": {},
     "output_type": "execute_result"
    }
   ],
   "source": [
    "release_password(authentication=[1])"
   ]
  },
  {
   "cell_type": "code",
   "execution_count": 36,
   "metadata": {},
   "outputs": [
    {
     "data": {
      "text/plain": [
       "'Not authenticated'"
      ]
     },
     "execution_count": 36,
     "metadata": {},
     "output_type": "execute_result"
    }
   ],
   "source": [
    "release_password(authentication=[])"
   ]
  },
  {
   "cell_type": "markdown",
   "metadata": {},
   "source": [
    "## Fix it"
   ]
  },
  {
   "cell_type": "code",
   "execution_count": 39,
   "metadata": {
    "slideshow": {
     "slide_type": "subslide"
    }
   },
   "outputs": [],
   "source": [
    "# thinking that objects eval to the same ensures equality is one major source of errors\n",
    "def release_password(authentication=False):\n",
    "    answer = \"Not authenticated\"\n",
    "    if authentication == True:\n",
    "        answer = \"Here is your pasword\"\n",
    "    return answer"
   ]
  },
  {
   "cell_type": "markdown",
   "metadata": {},
   "source": [
    "## Evaluating objects"
   ]
  },
  {
   "cell_type": "code",
   "execution_count": 40,
   "metadata": {},
   "outputs": [
    {
     "name": "stdout",
     "output_type": "stream",
     "text": [
      "[] is True? False\n",
      "[1] is True? False\n"
     ]
    }
   ],
   "source": [
    "print(\"[] is True?\", [] is True)\n",
    "print(\"[1] is True?\", [1] is True) "
   ]
  },
  {
   "cell_type": "code",
   "execution_count": 41,
   "metadata": {},
   "outputs": [
    {
     "name": "stdout",
     "output_type": "stream",
     "text": [
      "[] == True? False\n",
      "[1] == True? False\n"
     ]
    }
   ],
   "source": [
    "print(\"[] == True?\", [] == True)\n",
    "print(\"[1] == True?\", [1] == True) "
   ]
  },
  {
   "cell_type": "code",
   "execution_count": 42,
   "metadata": {},
   "outputs": [
    {
     "name": "stdout",
     "output_type": "stream",
     "text": [
      "bool([]) == True? False\n",
      "bool([1]) == True? True\n"
     ]
    }
   ],
   "source": [
    "print(\"bool([]) == True?\", bool([]) == True)\n",
    "print(\"bool([1]) == True?\", bool([1]) == True) "
   ]
  },
  {
   "cell_type": "markdown",
   "metadata": {
    "slideshow": {
     "slide_type": "slide"
    }
   },
   "source": [
    "## Other operators"
   ]
  },
  {
   "cell_type": "markdown",
   "metadata": {},
   "source": [
    "### membership operators"
   ]
  },
  {
   "cell_type": "code",
   "execution_count": 43,
   "metadata": {},
   "outputs": [
    {
     "data": {
      "text/plain": [
       "False"
      ]
     },
     "execution_count": 43,
     "metadata": {},
     "output_type": "execute_result"
    }
   ],
   "source": [
    "'dog' in 'Not sure I went out with the dOg'"
   ]
  },
  {
   "cell_type": "code",
   "execution_count": 44,
   "metadata": {},
   "outputs": [
    {
     "data": {
      "text/plain": [
       "True"
      ]
     },
     "execution_count": 44,
     "metadata": {},
     "output_type": "execute_result"
    }
   ],
   "source": [
    "'dog' in ('d0g', 'dOg', 'dog', 'dot')"
   ]
  },
  {
   "cell_type": "markdown",
   "metadata": {},
   "source": [
    "### logical operators"
   ]
  },
  {
   "cell_type": "code",
   "execution_count": 45,
   "metadata": {},
   "outputs": [
    {
     "name": "stderr",
     "output_type": "stream",
     "text": [
      "<>:1: SyntaxWarning: \"is\" with a literal. Did you mean \"==\"?\n",
      "<>:1: SyntaxWarning: \"is\" with a literal. Did you mean \"==\"?\n",
      "C:\\Users\\miche\\AppData\\Local\\Temp/ipykernel_18740/789980067.py:1: SyntaxWarning: \"is\" with a literal. Did you mean \"==\"?\n",
      "  (1 is True)\n"
     ]
    },
    {
     "data": {
      "text/plain": [
       "False"
      ]
     },
     "execution_count": 45,
     "metadata": {},
     "output_type": "execute_result"
    }
   ],
   "source": [
    "(1 is True)"
   ]
  },
  {
   "cell_type": "markdown",
   "metadata": {},
   "source": [
    "What is the \"or\" operator in Python?\n",
    "In short, the Python or operator returns the first object that evaluates to true or the last object in the expression, regardless of its truth value. In this example, the Python or operator returns the first true operand it finds, or the last one. This is the rule of thumb to memorize how or works in Python."
   ]
  },
  {
   "cell_type": "code",
   "execution_count": 46,
   "metadata": {},
   "outputs": [
    {
     "name": "stderr",
     "output_type": "stream",
     "text": [
      "<>:1: SyntaxWarning: \"is\" with a literal. Did you mean \"==\"?\n",
      "<>:1: SyntaxWarning: \"is\" with a literal. Did you mean \"==\"?\n",
      "C:\\Users\\miche\\AppData\\Local\\Temp/ipykernel_18740/1663338221.py:1: SyntaxWarning: \"is\" with a literal. Did you mean \"==\"?\n",
      "  (1 is True) or (1 == True)\n"
     ]
    },
    {
     "data": {
      "text/plain": [
       "True"
      ]
     },
     "execution_count": 46,
     "metadata": {},
     "output_type": "execute_result"
    }
   ],
   "source": [
    "(1 is True) or (1 == True) "
   ]
  },
  {
   "cell_type": "code",
   "execution_count": 47,
   "metadata": {},
   "outputs": [
    {
     "data": {
      "text/plain": [
       "4"
      ]
     },
     "execution_count": 47,
     "metadata": {},
     "output_type": "execute_result"
    }
   ],
   "source": [
    "# Does not have to be boolean operations ... though imho less readable\n",
    "4 or 3"
   ]
  },
  {
   "cell_type": "markdown",
   "metadata": {
    "slideshow": {
     "slide_type": "slide"
    }
   },
   "source": [
    "## Object references"
   ]
  },
  {
   "cell_type": "markdown",
   "metadata": {},
   "source": [
    "The id() command returns the id of a variable, which is not the same for another variable, even if they have the same content."
   ]
  },
  {
   "cell_type": "code",
   "execution_count": 48,
   "metadata": {},
   "outputs": [
    {
     "data": {
      "text/plain": [
       "1759327339824"
      ]
     },
     "execution_count": 48,
     "metadata": {},
     "output_type": "execute_result"
    }
   ],
   "source": [
    "a = \"Test!\"\n",
    "id(a)"
   ]
  },
  {
   "cell_type": "markdown",
   "metadata": {},
   "source": [
    "In the following first the value, then the id of a and then b is printed with the format command.\n",
    "\n",
    "Short intro to the format command:\n",
    "\n",
    "# using format() method\n",
    "print('I love {} for \"{}!\"'.format('Geeks', 'Geeks'))\n",
    "\n",
    "Output:\n",
    "I love Geeks for \"Geeks!\"\n",
    " \n",
    "# using format() method and referring\n",
    "# a position of the object\n",
    "print('{0} and {1}'.format('Geeks', 'Portal'))\n",
    "\n",
    "Output: \n",
    "Geeks and Portal\n",
    "\n",
    "So with format values can be put into the brackets and then be referred in the print statement with indices.\n",
    "\n",
    "But back to the id:\n",
    "\n",
    "When we define a to be b, then the value and id are the same. Once we change the value of one of them, both, value and id are not identical anymore, as the id changes when the value is changed."
   ]
  },
  {
   "cell_type": "code",
   "execution_count": 49,
   "metadata": {
    "slideshow": {
     "slide_type": "-"
    }
   },
   "outputs": [
    {
     "name": "stdout",
     "output_type": "stream",
     "text": [
      "a = 0  id:1759245723920\n",
      "b = 0  id:1759245723920\n",
      "a is b? True\n",
      "Adding 1 to a..\n",
      "a = 1  id:1759245723952\n",
      "b = 0  id:1759245723920\n",
      "a is b? False\n"
     ]
    }
   ],
   "source": [
    "a = 0\n",
    "b = a\n",
    "print(\"a = {0}  id:{1}\".format(a, id(a)))\n",
    "print(\"b = {0}  id:{1}\".format(b, id(b)))\n",
    "print(\"a is b?\", a is b)  # True\n",
    "print(\"Adding 1 to a..\")\n",
    "a += 1\n",
    "print(\"a = {0}  id:{1}\".format(a, id(a)))\n",
    "print(\"b = {0}  id:{1}\".format(b, id(b)))\n",
    "print(\"a is b?\", a is b)"
   ]
  },
  {
   "cell_type": "markdown",
   "metadata": {},
   "source": [
    "For dictionaries this is not the same. Here if we add a value, the dictionary id stays the same, the first value also stays the same, and only a value is added. That simply means that is is mutuable or in other words you can change it/its values."
   ]
  },
  {
   "cell_type": "code",
   "execution_count": 53,
   "metadata": {
    "slideshow": {
     "slide_type": "-"
    }
   },
   "outputs": [
    {
     "name": "stdout",
     "output_type": "stream",
     "text": [
      "a = {13: 14}  id:1759312542784\n",
      "b = {13: 14}  id:1759312542784\n",
      "a is b? True\n",
      "Adding 1 to a..\n",
      "a = {13: 14, 12: 12}  id:1759312542784\n",
      "b = {13: 14, 12: 12}  id:1759312542784\n",
      "a is b? True\n"
     ]
    }
   ],
   "source": [
    "a = {13: 14}\n",
    "b = a\n",
    "print(\"a = {0}  id:{1}\".format(a, id(a)))\n",
    "print(\"b = {0}  id:{1}\".format(b, id(b)))\n",
    "print(\"a is b?\", a is b)\n",
    "print(\"Adding 12 to a..\")\n",
    "a[12] = 12\n",
    "print(\"a = {0}  id:{1}\".format(a, id(a)))\n",
    "print(\"b = {0}  id:{1}\".format(b, id(b)))\n",
    "print(\"a is b?\", a is b)"
   ]
  },
  {
   "cell_type": "markdown",
   "metadata": {},
   "source": [
    "## immutable vs mutable"
   ]
  },
  {
   "cell_type": "markdown",
   "metadata": {},
   "source": [
    "For lists its is the same as for dicts as both are mutable as described before."
   ]
  },
  {
   "cell_type": "code",
   "execution_count": 58,
   "metadata": {},
   "outputs": [
    {
     "name": "stdout",
     "output_type": "stream",
     "text": [
      "a = [0]  id:1759312923392\n",
      "b = [0]  id:1759312923392\n",
      "a is b? True\n",
      "Adding 1 to a..\n",
      "a = [1]  id:1759312923392\n",
      "b = [1]  id:1759312923392\n",
      "a is b? True\n"
     ]
    }
   ],
   "source": [
    "a = [0]\n",
    "b = a\n",
    "print(\"a = {0}  id:{1}\".format(a, id(a)))\n",
    "print(\"b = {0}  id:{1}\".format(b, id(b)))\n",
    "print(\"a is b?\", a is b)\n",
    "print(\"Adding 1 to a..\")\n",
    "a[0] = 1\n",
    "print(\"a = {0}  id:{1}\".format(a, id(a)))\n",
    "print(\"b = {0}  id:{1}\".format(b, id(b)))\n",
    "print(\"a is b?\", a is b)"
   ]
  }
 ],
 "metadata": {
  "celltoolbar": "Slideshow",
  "interpreter": {
   "hash": "1db61796eef522af4c3bfa7a1992d331ca5efcfc6f3218f7d019c02f1fab5e13"
  },
  "kernelspec": {
   "display_name": "Python 3.7.9 64-bit ('.venv': venv)",
   "name": "python3"
  },
  "language_info": {
   "codemirror_mode": {
    "name": "ipython",
    "version": 3
   },
   "file_extension": ".py",
   "mimetype": "text/x-python",
   "name": "python",
   "nbconvert_exporter": "python",
   "pygments_lexer": "ipython3",
   "version": "3.8.10"
  }
 },
 "nbformat": 4,
 "nbformat_minor": 2
}
